{
 "metadata": {
  "language_info": {
   "codemirror_mode": {
    "name": "ipython",
    "version": 3
   },
   "file_extension": ".py",
   "mimetype": "text/x-python",
   "name": "python",
   "nbconvert_exporter": "python",
   "pygments_lexer": "ipython3",
   "version": "3.9.2"
  },
  "orig_nbformat": 4,
  "kernelspec": {
   "name": "python3",
   "display_name": "Python 3.9.2 64-bit"
  },
  "interpreter": {
   "hash": "38740d3277777e2cd7c6c2cc9d8addf5118fdf3f82b1b39231fd12aeac8aee8b"
  }
 },
 "nbformat": 4,
 "nbformat_minor": 2,
 "cells": [
  {
   "cell_type": "code",
   "execution_count": 7,
   "metadata": {},
   "outputs": [],
   "source": [
    "# coding: utf-8\n",
    "import threading\n",
    "import time\n",
    "class Job(threading.Thread):\n",
    "    def __init__(self, name, *args, **kwargs):\n",
    "        threading.Thread.__init__(self, name=name)\n",
    "        #super(Job, self).__init__(*args, **kwargs)\n",
    "        self.__flag = threading.Event()   # 用於暫停執行緒的標識\n",
    "        self.__flag.set()    # 設定為True\n",
    "        self.__running = threading.Event()   # 用於停止執行緒的標識\n",
    "        self.__running.set()   # 將running設定為True\n",
    "    def run(self):\n",
    "        while self.__running.isSet():\n",
    "            #self.__flag.wait()   # 為True時立即返回, 為False時阻塞直到內部的標識位為True後返回\n",
    "            print (time.time())\n",
    "            print(threading.current_thread())\n",
    "            time.sleep(1)\n",
    "    def stop(self):\n",
    "        #self.__flag.set()    # 將執行緒從暫停狀態恢復, 如何已經暫停的話\n",
    "        self.__running.clear()    # 設定為False  \n",
    "        print(threading.current_thread())"
   ]
  },
  {
   "cell_type": "code",
   "execution_count": 8,
   "metadata": {},
   "outputs": [],
   "source": [
    "a = Job('a')"
   ]
  },
  {
   "cell_type": "code",
   "execution_count": 10,
   "metadata": {},
   "outputs": [
    {
     "output_type": "stream",
     "name": "stdout",
     "text": [
      "1623576885.6799552\n",
      "<Job(a, started 7716)>\n",
      "1623576886.682273\n",
      "<Job(a, started 7716)>\n",
      "1623576887.6825478\n",
      "<Job(a, started 7716)>\n",
      "1623576888.6827493\n",
      "<Job(a, started 7716)>\n",
      "1623576889.6836243\n",
      "<Job(a, started 7716)>\n",
      "1623576890.684217\n",
      "<Job(a, started 7716)>\n",
      "1623576891.684392\n",
      "<Job(a, started 7716)>\n",
      "1623576892.6851768\n",
      "<Job(a, started 7716)>\n",
      "1623576893.6865244\n",
      "<Job(a, started 7716)>\n",
      "1623576894.6872187\n",
      "<Job(a, started 7716)>\n",
      "1623576895.6874437\n",
      "<Job(a, started 7716)>\n",
      "1623576896.6876776\n",
      "<Job(a, started 7716)>\n",
      "1623576897.6887517\n",
      "<Job(a, started 7716)>\n",
      "1623576898.6900156\n",
      "<Job(a, started 7716)>\n",
      "1623576899.690608\n",
      "<Job(a, started 7716)>\n",
      "1623576900.6914396\n",
      "<Job(a, started 7716)>\n",
      "<_MainThread(MainThread, started 17712)>\n"
     ]
    },
    {
     "output_type": "error",
     "ename": "RuntimeError",
     "evalue": "threads can only be started once",
     "traceback": [
      "\u001b[1;31m---------------------------------------------------------------------------\u001b[0m",
      "\u001b[1;31mRuntimeError\u001b[0m                              Traceback (most recent call last)",
      "\u001b[1;32m<ipython-input-10-cb6682b79b56>\u001b[0m in \u001b[0;36m<module>\u001b[1;34m\u001b[0m\n\u001b[0;32m      2\u001b[0m     \u001b[0mcommand\u001b[0m \u001b[1;33m=\u001b[0m \u001b[0minput\u001b[0m\u001b[1;33m(\u001b[0m\u001b[1;33m)\u001b[0m\u001b[1;33m\u001b[0m\u001b[1;33m\u001b[0m\u001b[0m\n\u001b[0;32m      3\u001b[0m     \u001b[1;32mif\u001b[0m \u001b[0mcommand\u001b[0m \u001b[1;33m==\u001b[0m \u001b[1;34m'Start'\u001b[0m\u001b[1;33m:\u001b[0m\u001b[1;33m\u001b[0m\u001b[1;33m\u001b[0m\u001b[0m\n\u001b[1;32m----> 4\u001b[1;33m         \u001b[0ma\u001b[0m\u001b[1;33m.\u001b[0m\u001b[0mstart\u001b[0m\u001b[1;33m(\u001b[0m\u001b[1;33m)\u001b[0m\u001b[1;33m\u001b[0m\u001b[1;33m\u001b[0m\u001b[0m\n\u001b[0m\u001b[0;32m      5\u001b[0m     \u001b[1;32melif\u001b[0m \u001b[0mcommand\u001b[0m \u001b[1;33m==\u001b[0m \u001b[1;34m'Pause'\u001b[0m\u001b[1;33m:\u001b[0m\u001b[1;33m\u001b[0m\u001b[1;33m\u001b[0m\u001b[0m\n\u001b[0;32m      6\u001b[0m         \u001b[0mprint\u001b[0m\u001b[1;33m(\u001b[0m\u001b[1;34m'Hi'\u001b[0m\u001b[1;33m)\u001b[0m\u001b[1;33m\u001b[0m\u001b[1;33m\u001b[0m\u001b[0m\n",
      "\u001b[1;32mC:\\Python\\lib\\threading.py\u001b[0m in \u001b[0;36mstart\u001b[1;34m(self)\u001b[0m\n\u001b[0;32m    867\u001b[0m \u001b[1;33m\u001b[0m\u001b[0m\n\u001b[0;32m    868\u001b[0m         \u001b[1;32mif\u001b[0m \u001b[0mself\u001b[0m\u001b[1;33m.\u001b[0m\u001b[0m_started\u001b[0m\u001b[1;33m.\u001b[0m\u001b[0mis_set\u001b[0m\u001b[1;33m(\u001b[0m\u001b[1;33m)\u001b[0m\u001b[1;33m:\u001b[0m\u001b[1;33m\u001b[0m\u001b[1;33m\u001b[0m\u001b[0m\n\u001b[1;32m--> 869\u001b[1;33m             \u001b[1;32mraise\u001b[0m \u001b[0mRuntimeError\u001b[0m\u001b[1;33m(\u001b[0m\u001b[1;34m\"threads can only be started once\"\u001b[0m\u001b[1;33m)\u001b[0m\u001b[1;33m\u001b[0m\u001b[1;33m\u001b[0m\u001b[0m\n\u001b[0m\u001b[0;32m    870\u001b[0m \u001b[1;33m\u001b[0m\u001b[0m\n\u001b[0;32m    871\u001b[0m         \u001b[1;32mwith\u001b[0m \u001b[0m_active_limbo_lock\u001b[0m\u001b[1;33m:\u001b[0m\u001b[1;33m\u001b[0m\u001b[1;33m\u001b[0m\u001b[0m\n",
      "\u001b[1;31mRuntimeError\u001b[0m: threads can only be started once"
     ]
    }
   ],
   "source": [
    "while True:\n",
    "    command = input()\n",
    "    if command == 'Start':\n",
    "        a.start()\n",
    "    elif command == 'Pause':\n",
    "        print('Hi')\n",
    "        #a.pause()\n",
    "    elif command == 'Resume':\n",
    "        print('Hi')\n",
    "        #a.resume()\n",
    "    elif command == 'Stop':\n",
    "        a.stop()\n",
    "    elif command == 'End':\n",
    "        a.stop()\n",
    "        break"
   ]
  },
  {
   "cell_type": "code",
   "execution_count": null,
   "metadata": {},
   "outputs": [],
   "source": []
  }
 ]
}